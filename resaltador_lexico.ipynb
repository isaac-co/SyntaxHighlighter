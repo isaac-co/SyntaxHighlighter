{
 "cells": [
  {
   "cell_type": "markdown",
   "metadata": {},
   "source": [
    "# Resaltador léxico secuencial\n",
    "---"
   ]
  },
  {
   "cell_type": "markdown",
   "metadata": {},
   "source": [
    "- [x] Regex expr\n",
    "- [x] Tokenize file\n",
    "- [x] Write HTML file\n",
    "- [x] Highlight syntax\n",
    "- [x] Paralelo\n",
    "- [x] 1000 files\n",
    "- [x] Poster\n",
    "\n",
    "> Isaac Cortés Martínez       A01378642\n",
    "\n",
    "> Alejandro Enríquez Coronado A01378141"
   ]
  },
  {
   "cell_type": "markdown",
   "metadata": {},
   "source": [
    "---\n",
    "### Analyzed tokens:\n",
    "- **Keywords**\n",
    "- **Comments**\n",
    "- **Literals**\n",
    "    - Complex\n",
    "    - Float\n",
    "    - Integers\n",
    "    - Boolean\n",
    "    - String\n",
    "    - None\n",
    "- **Delimiters**\n",
    "    - Grouping\n",
    "    - Punctuation\n",
    "    - Arithmetic assignment\n",
    "    - Bitwise assignment\n",
    "- **Operators**\n",
    "    - Arithmetic\n",
    "    - Bitwise\n",
    "    - Relational\n",
    "    - Logical\n",
    "- **Identifiers**\n",
    "- **Spaces**\n",
    "- **Newlines**\n",
    "- **Invalid characters**\n",
    "---"
   ]
  },
  {
   "cell_type": "markdown",
   "metadata": {},
   "source": [
    "### Regular expression"
   ]
  },
  {
   "cell_type": "code",
   "execution_count": 1,
   "metadata": {},
   "outputs": [
    {
     "data": {
      "text/plain": [
       "#'user/regex"
      ]
     },
     "execution_count": 1,
     "metadata": {},
     "output_type": "execute_result"
    }
   ],
   "source": [
    "(def regex #\"\n",
    "(?xi)\n",
    "    (?:ð)\n",
    "# 1. Keywords\n",
    "    |(\\b(?:class|finally|return|continue|for|lambda|try|def|from|nonlocal|while|del|global|with|as|elif|if|yield|assert|else|import|pass|break|except|raise)\\b)\n",
    "# Comments\n",
    "    |((?:\\#.*|\\\"{3}[\\w\\W]*?\\\"{3}|\\'{3}[\\w\\W]*?\\'{3}))                                              # 2. Multi and single-line comments\n",
    "# 3. Misc\n",
    "    |(->|>>>)                                                                                      # Function Annotations, command prompt\n",
    "# Literals\n",
    "    |((?:\\d+j{1}|(?:(?: [+-]? \\d*\\.\\d* (?: e [+-]? \\d+ | ) | \\d+ (?:e[+-]?\\d+) ) ) [+-]?\\.?\\d+j))  # 4. Complex\n",
    "    |((?:[+-]?\\d*\\.\\d+(?:e[+-]?\\d+|)|\\d+(?:e[+-]?\\d+)))                                            # 5. Float\n",
    "    |(\\d+)                                                                                         # 6. Ints\n",
    "    |(\\bTrue\\b|\\bFalse\\b)                                                                          # 7. Boolean\n",
    "    |((?:\\\".*\\\"|\\'.*\\'))                                                                           # 8. String\n",
    "    |(None)                                                                                        # 9. None\n",
    "# Delimiters\n",
    "    |((?:\\(|\\)|\\[|\\]|\\{|\\}))                                                                       # 10. Grouping\n",
    "    |((?:\\.|\\,|\\:|\\;|\\@))                                                                          # 11. Punctuation\n",
    "    |((?:=(?!=)|\\+=|-=|\\*{1}=|\\/{1}=|\\/{2}=|%=|\\*{2}=))                                            # 12. Arithmetic assignment\n",
    "    |((?:\\&=|\\|=|\\^=|<{2}=|>{2}=))                                                                 # 13. Bitwise assignment\n",
    "# Operators\n",
    "    |((?:\\+|\\-|\\*{2}|\\/{2}|\\/{1}|\\%|\\*{1}))                                                        # 14. Arithmetic\n",
    "    |((?:\\&|\\||\\~|\\^|\\<{2}|\\>{2}))                                                                 # 15. Bitwise \n",
    "    |((?:<=|>=|<{1}|>{1}|!=|={2}|\\bis\\b|\\bin\\b))                                                   # 16. Relational\n",
    "    |((?:\\band\\b|\\bor\\b|\\bnot\\b))                                                                  # 17. Logical\n",
    "# Identifiers\n",
    "    |(\\b(?!class|finally|return|continue|for|lambda|try|def|from|nonlocal|while|del|global|with|as|elif|if|yield|assert|else|import|pass|break|except|raise)[a-z_]?[a-z0-9_]+)\n",
    "                                                                                                   # 18. Identifiers\n",
    "# Spaces\n",
    "    |([\\ \\t])                                                                                      # 19. Spaces\n",
    "# Newlines\n",
    "    |([\\v\\r\\n\\f])                                                                                  # 20. Newlines\n",
    "# Invalid characters\n",
    "    |(.)                                                                                           # 21. Invalid\n",
    "\")"
   ]
  },
  {
   "cell_type": "markdown",
   "metadata": {},
   "source": [
    "#### **html-friendlynize** turns a string into it's HTML friendly version by escaping \">\" and \"<\"."
   ]
  },
  {
   "cell_type": "code",
   "execution_count": 2,
   "metadata": {},
   "outputs": [
    {
     "data": {
      "text/plain": [
       "#'user/html-friendlynize"
      ]
     },
     "execution_count": 2,
     "metadata": {},
     "output_type": "execute_result"
    }
   ],
   "source": [
    "(defn html-friendlynize\n",
    "  [token]\n",
    "  (clojure.string/replace token #\">|<\" {\">\" \"&gt;\" \"<\" \"&lt;\"}))"
   ]
  },
  {
   "cell_type": "markdown",
   "metadata": {},
   "source": [
    "#### **htmlize-file** reads a python file, breaks it down into the pre-defined lexical groups of a regex expression and writes an HTML pre-formatted text version of those groups (preserving their lexical group as the HTML class)"
   ]
  },
  {
   "cell_type": "code",
   "execution_count": 3,
   "metadata": {},
   "outputs": [
    {
     "data": {
      "text/plain": [
       "#'user/htmlize-file"
      ]
     },
     "execution_count": 3,
     "metadata": {},
     "output_type": "execute_result"
    }
   ],
   "source": [
    "(defn htmlize-file\n",
    "  [file-name]\n",
    "  (->> (re-seq regex (slurp file-name))\n",
    "     (map (fn [match]\n",
    "            (let [token (match 0)]\n",
    "              (cond\n",
    "                (match 1)  (format \"<span class=\\\"keyword\\\">%s</span>\" token)\n",
    "                (match 2)  (format \"<span class=\\\"comment\\\">%s</span>\" (html-friendlynize token))\n",
    "                (match 3)  (format \"<span class=\\\"misc\\\">%s</span>\" (html-friendlynize token))\n",
    "                (match 4)  (format \"<span class=\\\"complex-literal\\\">%s</span>\" token)\n",
    "                (match 5)  (format \"<span class=\\\"float-literal\\\">%s</span>\" token)\n",
    "                (match 6)  (format \"<span class=\\\"int-literal\\\">%s</span>\" token)\n",
    "                (match 7)  (format \"<span class=\\\"bool-literal\\\">%s</span>\" token)\n",
    "                (match 8)  (format \"<span class=\\\"string-literal\\\">%s</span>\" (html-friendlynize token))\n",
    "                (match 9)  (format \"<span class=\\\"none-literal\\\">%s</span>\" token)\n",
    "                (match 10) (format \"<span class=\\\"grouping\\\">%s</span>\" token)\n",
    "                (match 11) (format \"<span class=\\\"punctuation\\\">%s</span>\" token)  \n",
    "                (match 12) (format \"<span class=\\\"arithmetic-assignment\\\">%s</span>\" token)\n",
    "                (match 13) (format \"<span class=\\\"bitwise-assignment\\\">%s</span>\" (html-friendlynize token))\n",
    "                (match 14) (format \"<span class=\\\"arithmetic-operator\\\">%s</span>\" token)\n",
    "                (match 15) (format \"<span class=\\\"bitwise-operator\\\">%s</span>\" (html-friendlynize token))\n",
    "                (match 16) (format \"<span class=\\\"relational-operator\\\">%s</span>\" (html-friendlynize token))\n",
    "                (match 17) (format \"<span class=\\\"logical-operator\\\">%s</span>\" token)\n",
    "                (match 18) (format \"<span class=\\\"identifier\\\">%s</span>\" (html-friendlynize token))\n",
    "                (match 19) \" \"\n",
    "                (match 20) (format \"%s\" token)\n",
    "                (match 21) (format \"<span class=\\\"invalid\\\">%s</span>\" (html-friendlynize token))       \n",
    "                ))))))"
   ]
  },
  {
   "cell_type": "markdown",
   "metadata": {},
   "source": [
    "¹ No need to make html-friendly the tokens that will never encounter any of the HTML delimiters."
   ]
  },
  {
   "cell_type": "markdown",
   "metadata": {},
   "source": [
    "#### **highlight-file** produces the final HTML file, concatenating the head, body, pre, spans and the css stylesheet route."
   ]
  },
  {
   "cell_type": "code",
   "execution_count": 4,
   "metadata": {},
   "outputs": [
    {
     "data": {
      "text/plain": [
       "#'user/highlight-file"
      ]
     },
     "execution_count": 4,
     "metadata": {},
     "output_type": "execute_result"
    }
   ],
   "source": [
    "(defn highlight-file\n",
    "  [input-file output-file]\n",
    "  (spit output-file (format \"<html>\n",
    "  <head>\n",
    "    <title>Python Lexical Highliter</title>\n",
    "    <link rel=\\\"stylesheet\\\" href=\\\"token_colors.css\\\">\n",
    "  </head>\n",
    "  <body>\n",
    "    <pre>%s\n",
    "    </pre>\n",
    "  </body>\n",
    "</html>\", (clojure.string/join (concat (htmlize-file input-file))))))"
   ]
  },
  {
   "cell_type": "markdown",
   "metadata": {},
   "source": [
    "---\n",
    "### Parallel\n"
   ]
  },
  {
   "cell_type": "markdown",
   "metadata": {},
   "source": [
    "#### **get-file-info** returns a list of every file on a directory and its subdirectories, filtering the folders themselves"
   ]
  },
  {
   "cell_type": "code",
   "execution_count": 5,
   "metadata": {},
   "outputs": [
    {
     "data": {
      "text/plain": [
       "#'user/get-file-info"
      ]
     },
     "execution_count": 5,
     "metadata": {},
     "output_type": "execute_result"
    }
   ],
   "source": [
    "(defn get-file-info\n",
    "    [dir]\n",
    "    (for [f (map (fn [f]\n",
    "             [(.getAbsolutePath f) (subs (.getName f) 0 (- (.length (.getName f)) 3)) (.isFile f)])\n",
    "         (file-seq (clojure.java.io/file dir))) :when (f 2) ] [(f 0) (f 1)]))"
   ]
  },
  {
   "cell_type": "markdown",
   "metadata": {},
   "source": [
    "#### **ranges** separates the file list indexes into separate parts to distribute between processes"
   ]
  },
  {
   "cell_type": "code",
   "execution_count": 6,
   "metadata": {},
   "outputs": [
    {
     "data": {
      "text/plain": [
       "#'user/ranges"
      ]
     },
     "execution_count": 6,
     "metadata": {},
     "output_type": "execute_result"
    }
   ],
   "source": [
    "(defn ranges\n",
    "  [dir threads]\n",
    "   (let [files (get-file-info dir)]\n",
    "       (partition 2 1 (range 0 (inc (count files)) (quot (count files) threads)))))"
   ]
  },
  {
   "cell_type": "markdown",
   "metadata": {},
   "source": [
    "#### **highlight-file-seq gets the file list and loops between a start and end range to produce the html output with the **highlight-file** function"
   ]
  },
  {
   "cell_type": "code",
   "execution_count": 7,
   "metadata": {},
   "outputs": [
    {
     "data": {
      "text/plain": [
       "#'user/highlight-file-seq"
      ]
     },
     "execution_count": 7,
     "metadata": {},
     "output_type": "execute_result"
    }
   ],
   "source": [
    "(defn highlight-file-seq\n",
    "    [dir start end]\n",
    "    (let [files (get-file-info dir)]\n",
    "        (loop [i start]\n",
    "        (if (< i end)\n",
    "            (do (highlight-file (nth (nth files i) 0)\n",
    "                                (str \"./Outputs/\" (nth (nth files i) 1) \".html\"))\n",
    "                (recur (inc i)))\n",
    "            nil))))"
   ]
  },
  {
   "cell_type": "markdown",
   "metadata": {},
   "source": [
    "#### **highlight-file-par uses pmap and ranges to divide workload from highlight-file-seq into the desired number of threads"
   ]
  },
  {
   "cell_type": "code",
   "execution_count": 8,
   "metadata": {},
   "outputs": [
    {
     "data": {
      "text/plain": [
       "#'user/highlight-file-par"
      ]
     },
     "execution_count": 8,
     "metadata": {},
     "output_type": "execute_result"
    }
   ],
   "source": [
    "(defn highlight-file-par\n",
    "    [dir threads]\n",
    "    (nth (->> (ranges dir threads)\n",
    "        (pmap (fn [[start end]]\n",
    "              (highlight-file-seq dir start end)))) 0))"
   ]
  },
  {
   "cell_type": "markdown",
   "metadata": {},
   "source": [
    "#### Sequential Test"
   ]
  },
  {
   "cell_type": "code",
   "execution_count": 9,
   "metadata": {},
   "outputs": [
    {
     "name": "stdout",
     "output_type": "stream",
     "text": [
      "\"Elapsed time: 9553.8826 msecs\"\n",
      "\"Elapsed time: 9180.5234 msecs\"\n",
      "\"Elapsed time: 9154.4379 msecs\"\n",
      "\"Elapsed time: 9469.622 msecs\"\n",
      "\"Elapsed time: 9157.7746 msecs\"\n"
     ]
    },
    {
     "data": {
      "text/plain": [
       "nil"
      ]
     },
     "execution_count": 9,
     "metadata": {},
     "output_type": "execute_result"
    }
   ],
   "source": [
    "(def file-numbers (count (get-file-info \"Python\")))\n",
    "(doseq [i (range 5)]\n",
    "  (time (highlight-file-seq \"Python\" 0 file-numbers)))"
   ]
  },
  {
   "cell_type": "markdown",
   "metadata": {},
   "source": [
    "#### Parallel Test"
   ]
  },
  {
   "cell_type": "code",
   "execution_count": 10,
   "metadata": {},
   "outputs": [
    {
     "name": "stdout",
     "output_type": "stream",
     "text": [
      "\"Elapsed time: 1103.854 msecs\"\n",
      "\"Elapsed time: 1305.0051 msecs\"\n",
      "\"Elapsed time: 1606.4679 msecs\"\n",
      "\"Elapsed time: 1613.7931 msecs\"\n",
      "\"Elapsed time: 1638.2633 msecs\"\n"
     ]
    },
    {
     "data": {
      "text/plain": [
       "nil"
      ]
     },
     "execution_count": 10,
     "metadata": {},
     "output_type": "execute_result"
    }
   ],
   "source": [
    "(doseq [i (range 5)]\n",
    "  (time (highlight-file-par \"Python\" 8)))"
   ]
  },
  {
   "cell_type": "markdown",
   "metadata": {},
   "source": [
    "#### Speedup"
   ]
  },
  {
   "cell_type": "code",
   "execution_count": 12,
   "metadata": {},
   "outputs": [
    {
     "data": {
      "text/plain": [
       "6.400686180943749"
      ]
     },
     "execution_count": 12,
     "metadata": {},
     "output_type": "execute_result"
    }
   ],
   "source": [
    "(def average-sequential\n",
    "  (/ (+ 9553.8826  9180.5234 9154.4379\n",
    "        9469.622 9157.7746)\n",
    "     5))\n",
    "\n",
    "(def average-parallel\n",
    "  (/ (+ 1103.854  1305.0051 1606.4679\n",
    "        1613.7931 1638.2633)\n",
    "     5))\n",
    "\n",
    ";; Speedup\n",
    "(/ average-sequential average-parallel)"
   ]
  },
  {
   "cell_type": "code",
   "execution_count": null,
   "metadata": {},
   "outputs": [],
   "source": []
  }
 ],
 "metadata": {
  "kernelspec": {
   "display_name": "Clojure (clojupyter=0.3.2=1)",
   "language": "clojure",
   "name": "conda-clojupyter"
  },
  "language_info": {
   "file_extension": ".clj",
   "mimetype": "text/x-clojure",
   "name": "clojure",
   "version": "1.10.1"
  }
 },
 "nbformat": 4,
 "nbformat_minor": 4
}
